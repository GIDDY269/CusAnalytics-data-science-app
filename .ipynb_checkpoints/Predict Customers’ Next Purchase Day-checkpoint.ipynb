{
 "cells": [
  {
   "cell_type": "markdown",
   "id": "a1ac3702",
   "metadata": {},
   "source": [
    "## Using Machine Learning to Predict If A Customers Will Purchase In The Next 90 Days And How Much They Will spend ? \n",
    "Machine Learning model to predict whether customers will make their next purchase after a certain period.If there is one major lesson that those in the retail business have learnt from the SARS-CoV-2 pandemic, it is the demand to switch to doing business via the Internet, i.e., e-commerce. The idea of e-commerce assists those in managerial positions to make decisions for the progress of their companies. Undoubtedly, most of these decisions are influenced by the results derived from studying the purchasing behavioural data of online customers by experts in data analysis, data science, and machine learning.\n",
    "\n",
    "## Problem Statement\n",
    " the managerial team of an online retail shop approaches you, a data scientist, with the dataset wanting to know whether customers will make their next purchase 90 days from the day they made their last purchase. Your answer to their inquiry will help them identify which customers their marketing team need to have a focus on with regard to the next promotional offers they will be rolling out."
   ]
  },
  {
   "cell_type": "code",
   "execution_count": 12,
   "id": "d5c4cf94",
   "metadata": {},
   "outputs": [],
   "source": [
    "## load tools\n",
    "\n",
    "# avoid displaying warnings\n",
    "import warnings\n",
    "warnings.filterwarnings(\"ignore\")\n",
    "\n",
    "import pandas as pd\n",
    "import numpy as np\n",
    "import matplotlib.pyplot as plt\n",
    "%matplotlib inline\n",
    "import seaborn as sns\n",
    "\n",
    "#import machine learning related libraries\n",
    "from sklearn.svm import SVC\n",
    "from sklearn.ensemble import GradientBoostingClassifier\n",
    "from sklearn.tree import DecisionTreeClassifier\n",
    "from sklearn.neighbors import KNeighborsClassifier\n",
    "from sklearn.naive_bayes import GaussianNB\n",
    "from sklearn.ensemble import RandomForestClassifier\n",
    "from sklearn.linear_model import LogisticRegression\n",
    "from sklearn.model_selection import KFold, cross_val_score\n",
    "from sklearn.metrics import accuracy_score, f1_score, precision_score, recall_score, confusion_matrix,classification_report\n",
    "from sklearn.cluster import KMeans\n",
    "import xgboost as xgb\n",
    "import math\n",
    "plt.style.use('seaborn-v0_8-whitegrid')"
   ]
  },
  {
   "cell_type": "code",
   "execution_count": 13,
   "id": "be5fffb3",
   "metadata": {},
   "outputs": [
    {
     "data": {
      "text/html": [
       "<div>\n",
       "<style scoped>\n",
       "    .dataframe tbody tr th:only-of-type {\n",
       "        vertical-align: middle;\n",
       "    }\n",
       "\n",
       "    .dataframe tbody tr th {\n",
       "        vertical-align: top;\n",
       "    }\n",
       "\n",
       "    .dataframe thead th {\n",
       "        text-align: right;\n",
       "    }\n",
       "</style>\n",
       "<table border=\"1\" class=\"dataframe\">\n",
       "  <thead>\n",
       "    <tr style=\"text-align: right;\">\n",
       "      <th></th>\n",
       "      <th>Invoice</th>\n",
       "      <th>StockCode</th>\n",
       "      <th>Description</th>\n",
       "      <th>Quantity</th>\n",
       "      <th>InvoiceDate</th>\n",
       "      <th>Price</th>\n",
       "      <th>Customer ID</th>\n",
       "      <th>Country</th>\n",
       "    </tr>\n",
       "  </thead>\n",
       "  <tbody>\n",
       "    <tr>\n",
       "      <th>0</th>\n",
       "      <td>489434</td>\n",
       "      <td>85048</td>\n",
       "      <td>15CM CHRISTMAS GLASS BALL 20 LIGHTS</td>\n",
       "      <td>12</td>\n",
       "      <td>2009-12-01 07:45:00</td>\n",
       "      <td>6.95</td>\n",
       "      <td>13085.0</td>\n",
       "      <td>United Kingdom</td>\n",
       "    </tr>\n",
       "    <tr>\n",
       "      <th>1</th>\n",
       "      <td>489434</td>\n",
       "      <td>79323P</td>\n",
       "      <td>PINK CHERRY LIGHTS</td>\n",
       "      <td>12</td>\n",
       "      <td>2009-12-01 07:45:00</td>\n",
       "      <td>6.75</td>\n",
       "      <td>13085.0</td>\n",
       "      <td>United Kingdom</td>\n",
       "    </tr>\n",
       "    <tr>\n",
       "      <th>2</th>\n",
       "      <td>489434</td>\n",
       "      <td>79323W</td>\n",
       "      <td>WHITE CHERRY LIGHTS</td>\n",
       "      <td>12</td>\n",
       "      <td>2009-12-01 07:45:00</td>\n",
       "      <td>6.75</td>\n",
       "      <td>13085.0</td>\n",
       "      <td>United Kingdom</td>\n",
       "    </tr>\n",
       "    <tr>\n",
       "      <th>3</th>\n",
       "      <td>489434</td>\n",
       "      <td>22041</td>\n",
       "      <td>RECORD FRAME 7\" SINGLE SIZE</td>\n",
       "      <td>48</td>\n",
       "      <td>2009-12-01 07:45:00</td>\n",
       "      <td>2.10</td>\n",
       "      <td>13085.0</td>\n",
       "      <td>United Kingdom</td>\n",
       "    </tr>\n",
       "    <tr>\n",
       "      <th>4</th>\n",
       "      <td>489434</td>\n",
       "      <td>21232</td>\n",
       "      <td>STRAWBERRY CERAMIC TRINKET BOX</td>\n",
       "      <td>24</td>\n",
       "      <td>2009-12-01 07:45:00</td>\n",
       "      <td>1.25</td>\n",
       "      <td>13085.0</td>\n",
       "      <td>United Kingdom</td>\n",
       "    </tr>\n",
       "    <tr>\n",
       "      <th>...</th>\n",
       "      <td>...</td>\n",
       "      <td>...</td>\n",
       "      <td>...</td>\n",
       "      <td>...</td>\n",
       "      <td>...</td>\n",
       "      <td>...</td>\n",
       "      <td>...</td>\n",
       "      <td>...</td>\n",
       "    </tr>\n",
       "    <tr>\n",
       "      <th>1067366</th>\n",
       "      <td>581587</td>\n",
       "      <td>22899</td>\n",
       "      <td>CHILDREN'S APRON DOLLY GIRL</td>\n",
       "      <td>6</td>\n",
       "      <td>2011-12-09 12:50:00</td>\n",
       "      <td>2.10</td>\n",
       "      <td>12680.0</td>\n",
       "      <td>France</td>\n",
       "    </tr>\n",
       "    <tr>\n",
       "      <th>1067367</th>\n",
       "      <td>581587</td>\n",
       "      <td>23254</td>\n",
       "      <td>CHILDRENS CUTLERY DOLLY GIRL</td>\n",
       "      <td>4</td>\n",
       "      <td>2011-12-09 12:50:00</td>\n",
       "      <td>4.15</td>\n",
       "      <td>12680.0</td>\n",
       "      <td>France</td>\n",
       "    </tr>\n",
       "    <tr>\n",
       "      <th>1067368</th>\n",
       "      <td>581587</td>\n",
       "      <td>23255</td>\n",
       "      <td>CHILDRENS CUTLERY CIRCUS PARADE</td>\n",
       "      <td>4</td>\n",
       "      <td>2011-12-09 12:50:00</td>\n",
       "      <td>4.15</td>\n",
       "      <td>12680.0</td>\n",
       "      <td>France</td>\n",
       "    </tr>\n",
       "    <tr>\n",
       "      <th>1067369</th>\n",
       "      <td>581587</td>\n",
       "      <td>22138</td>\n",
       "      <td>BAKING SET 9 PIECE RETROSPOT</td>\n",
       "      <td>3</td>\n",
       "      <td>2011-12-09 12:50:00</td>\n",
       "      <td>4.95</td>\n",
       "      <td>12680.0</td>\n",
       "      <td>France</td>\n",
       "    </tr>\n",
       "    <tr>\n",
       "      <th>1067370</th>\n",
       "      <td>581587</td>\n",
       "      <td>POST</td>\n",
       "      <td>POSTAGE</td>\n",
       "      <td>1</td>\n",
       "      <td>2011-12-09 12:50:00</td>\n",
       "      <td>18.00</td>\n",
       "      <td>12680.0</td>\n",
       "      <td>France</td>\n",
       "    </tr>\n",
       "  </tbody>\n",
       "</table>\n",
       "<p>1067371 rows × 8 columns</p>\n",
       "</div>"
      ],
      "text/plain": [
       "        Invoice StockCode  ... Customer ID         Country\n",
       "0        489434     85048  ...     13085.0  United Kingdom\n",
       "1        489434    79323P  ...     13085.0  United Kingdom\n",
       "2        489434    79323W  ...     13085.0  United Kingdom\n",
       "3        489434     22041  ...     13085.0  United Kingdom\n",
       "4        489434     21232  ...     13085.0  United Kingdom\n",
       "...         ...       ...  ...         ...             ...\n",
       "1067366  581587     22899  ...     12680.0          France\n",
       "1067367  581587     23254  ...     12680.0          France\n",
       "1067368  581587     23255  ...     12680.0          France\n",
       "1067369  581587     22138  ...     12680.0          France\n",
       "1067370  581587      POST  ...     12680.0          France\n",
       "\n",
       "[1067371 rows x 8 columns]"
      ]
     },
     "execution_count": 13,
     "metadata": {},
     "output_type": "execute_result"
    }
   ],
   "source": [
    "## load data\n",
    "\n",
    "purchase_df = pd.read_csv('online_retail_II.csv')\n",
    "purchase_df"
   ]
  },
  {
   "cell_type": "code",
   "execution_count": 14,
   "id": "4a408fe4",
   "metadata": {},
   "outputs": [
    {
     "data": {
      "text/html": [
       "<div>\n",
       "<style scoped>\n",
       "    .dataframe tbody tr th:only-of-type {\n",
       "        vertical-align: middle;\n",
       "    }\n",
       "\n",
       "    .dataframe tbody tr th {\n",
       "        vertical-align: top;\n",
       "    }\n",
       "\n",
       "    .dataframe thead th {\n",
       "        text-align: right;\n",
       "    }\n",
       "</style>\n",
       "<table border=\"1\" class=\"dataframe\">\n",
       "  <thead>\n",
       "    <tr style=\"text-align: right;\">\n",
       "      <th></th>\n",
       "      <th>InvoiceID</th>\n",
       "      <th>StockCode</th>\n",
       "      <th>Description</th>\n",
       "      <th>Quantity</th>\n",
       "      <th>InvoiceDate</th>\n",
       "      <th>UnitPrice</th>\n",
       "      <th>Customer ID</th>\n",
       "      <th>Country</th>\n",
       "    </tr>\n",
       "  </thead>\n",
       "  <tbody>\n",
       "    <tr>\n",
       "      <th>0</th>\n",
       "      <td>489434</td>\n",
       "      <td>85048</td>\n",
       "      <td>15CM CHRISTMAS GLASS BALL 20 LIGHTS</td>\n",
       "      <td>12</td>\n",
       "      <td>2009-12-01 07:45:00</td>\n",
       "      <td>6.95</td>\n",
       "      <td>13085.0</td>\n",
       "      <td>United Kingdom</td>\n",
       "    </tr>\n",
       "    <tr>\n",
       "      <th>1</th>\n",
       "      <td>489434</td>\n",
       "      <td>79323P</td>\n",
       "      <td>PINK CHERRY LIGHTS</td>\n",
       "      <td>12</td>\n",
       "      <td>2009-12-01 07:45:00</td>\n",
       "      <td>6.75</td>\n",
       "      <td>13085.0</td>\n",
       "      <td>United Kingdom</td>\n",
       "    </tr>\n",
       "    <tr>\n",
       "      <th>2</th>\n",
       "      <td>489434</td>\n",
       "      <td>79323W</td>\n",
       "      <td>WHITE CHERRY LIGHTS</td>\n",
       "      <td>12</td>\n",
       "      <td>2009-12-01 07:45:00</td>\n",
       "      <td>6.75</td>\n",
       "      <td>13085.0</td>\n",
       "      <td>United Kingdom</td>\n",
       "    </tr>\n",
       "    <tr>\n",
       "      <th>3</th>\n",
       "      <td>489434</td>\n",
       "      <td>22041</td>\n",
       "      <td>RECORD FRAME 7\" SINGLE SIZE</td>\n",
       "      <td>48</td>\n",
       "      <td>2009-12-01 07:45:00</td>\n",
       "      <td>2.10</td>\n",
       "      <td>13085.0</td>\n",
       "      <td>United Kingdom</td>\n",
       "    </tr>\n",
       "    <tr>\n",
       "      <th>4</th>\n",
       "      <td>489434</td>\n",
       "      <td>21232</td>\n",
       "      <td>STRAWBERRY CERAMIC TRINKET BOX</td>\n",
       "      <td>24</td>\n",
       "      <td>2009-12-01 07:45:00</td>\n",
       "      <td>1.25</td>\n",
       "      <td>13085.0</td>\n",
       "      <td>United Kingdom</td>\n",
       "    </tr>\n",
       "    <tr>\n",
       "      <th>...</th>\n",
       "      <td>...</td>\n",
       "      <td>...</td>\n",
       "      <td>...</td>\n",
       "      <td>...</td>\n",
       "      <td>...</td>\n",
       "      <td>...</td>\n",
       "      <td>...</td>\n",
       "      <td>...</td>\n",
       "    </tr>\n",
       "    <tr>\n",
       "      <th>1067366</th>\n",
       "      <td>581587</td>\n",
       "      <td>22899</td>\n",
       "      <td>CHILDREN'S APRON DOLLY GIRL</td>\n",
       "      <td>6</td>\n",
       "      <td>2011-12-09 12:50:00</td>\n",
       "      <td>2.10</td>\n",
       "      <td>12680.0</td>\n",
       "      <td>France</td>\n",
       "    </tr>\n",
       "    <tr>\n",
       "      <th>1067367</th>\n",
       "      <td>581587</td>\n",
       "      <td>23254</td>\n",
       "      <td>CHILDRENS CUTLERY DOLLY GIRL</td>\n",
       "      <td>4</td>\n",
       "      <td>2011-12-09 12:50:00</td>\n",
       "      <td>4.15</td>\n",
       "      <td>12680.0</td>\n",
       "      <td>France</td>\n",
       "    </tr>\n",
       "    <tr>\n",
       "      <th>1067368</th>\n",
       "      <td>581587</td>\n",
       "      <td>23255</td>\n",
       "      <td>CHILDRENS CUTLERY CIRCUS PARADE</td>\n",
       "      <td>4</td>\n",
       "      <td>2011-12-09 12:50:00</td>\n",
       "      <td>4.15</td>\n",
       "      <td>12680.0</td>\n",
       "      <td>France</td>\n",
       "    </tr>\n",
       "    <tr>\n",
       "      <th>1067369</th>\n",
       "      <td>581587</td>\n",
       "      <td>22138</td>\n",
       "      <td>BAKING SET 9 PIECE RETROSPOT</td>\n",
       "      <td>3</td>\n",
       "      <td>2011-12-09 12:50:00</td>\n",
       "      <td>4.95</td>\n",
       "      <td>12680.0</td>\n",
       "      <td>France</td>\n",
       "    </tr>\n",
       "    <tr>\n",
       "      <th>1067370</th>\n",
       "      <td>581587</td>\n",
       "      <td>POST</td>\n",
       "      <td>POSTAGE</td>\n",
       "      <td>1</td>\n",
       "      <td>2011-12-09 12:50:00</td>\n",
       "      <td>18.00</td>\n",
       "      <td>12680.0</td>\n",
       "      <td>France</td>\n",
       "    </tr>\n",
       "  </tbody>\n",
       "</table>\n",
       "<p>1067371 rows × 8 columns</p>\n",
       "</div>"
      ],
      "text/plain": [
       "        InvoiceID StockCode  ... Customer ID         Country\n",
       "0          489434     85048  ...     13085.0  United Kingdom\n",
       "1          489434    79323P  ...     13085.0  United Kingdom\n",
       "2          489434    79323W  ...     13085.0  United Kingdom\n",
       "3          489434     22041  ...     13085.0  United Kingdom\n",
       "4          489434     21232  ...     13085.0  United Kingdom\n",
       "...           ...       ...  ...         ...             ...\n",
       "1067366    581587     22899  ...     12680.0          France\n",
       "1067367    581587     23254  ...     12680.0          France\n",
       "1067368    581587     23255  ...     12680.0          France\n",
       "1067369    581587     22138  ...     12680.0          France\n",
       "1067370    581587      POST  ...     12680.0          France\n",
       "\n",
       "[1067371 rows x 8 columns]"
      ]
     },
     "execution_count": 14,
     "metadata": {},
     "output_type": "execute_result"
    }
   ],
   "source": [
    "# changing invoice , price and Customer ID to invoiceID,unitprice and customerID\n",
    "purchase_df.rename(columns = {\n",
    "    'Invoice' : 'InvoiceID',\n",
    "    'Price' : 'UnitPrice'\n",
    "},inplace = True)\n",
    "\n",
    "purchase_df"
   ]
  },
  {
   "cell_type": "code",
   "execution_count": 15,
   "id": "9cc92f9f",
   "metadata": {},
   "outputs": [
    {
     "name": "stdout",
     "output_type": "stream",
     "text": [
      "<class 'pandas.core.frame.DataFrame'>\n",
      "RangeIndex: 1067371 entries, 0 to 1067370\n",
      "Data columns (total 8 columns):\n",
      " #   Column       Non-Null Count    Dtype  \n",
      "---  ------       --------------    -----  \n",
      " 0   InvoiceID    1067371 non-null  object \n",
      " 1   StockCode    1067371 non-null  object \n",
      " 2   Description  1062989 non-null  object \n",
      " 3   Quantity     1067371 non-null  int64  \n",
      " 4   InvoiceDate  1067371 non-null  object \n",
      " 5   UnitPrice    1067371 non-null  float64\n",
      " 6   Customer ID  824364 non-null   float64\n",
      " 7   Country      1067371 non-null  object \n",
      "dtypes: float64(2), int64(1), object(5)\n",
      "memory usage: 65.1+ MB\n"
     ]
    }
   ],
   "source": [
    "# checking information about data\n",
    "purchase_df.info()"
   ]
  },
  {
   "cell_type": "markdown",
   "id": "92975963",
   "metadata": {},
   "source": [
    "* Description,CustomerID are likely to have null values and InvoiceDate has to change to the proper data type which is datetime"
   ]
  },
  {
   "cell_type": "code",
   "execution_count": 16,
   "id": "c80f813b",
   "metadata": {},
   "outputs": [
    {
     "data": {
      "text/plain": [
       "InvoiceID           0\n",
       "StockCode           0\n",
       "Description      4382\n",
       "Quantity            0\n",
       "InvoiceDate         0\n",
       "UnitPrice           0\n",
       "Customer ID    243007\n",
       "Country             0\n",
       "dtype: int64"
      ]
     },
     "execution_count": 16,
     "metadata": {},
     "output_type": "execute_result"
    }
   ],
   "source": [
    "# checking for missing values\n",
    "\n",
    "purchase_df.isnull().sum()"
   ]
  },
  {
   "cell_type": "markdown",
   "id": "ed275d22",
   "metadata": {},
   "source": [
    "* Notice as earlier stated Description and CostomerID have some missing values in them and must be dealt with.\n",
    "* Dropping all missing values since they are considereably same compared to th whole data"
   ]
  },
  {
   "cell_type": "code",
   "execution_count": 17,
   "id": "3a4b4ff4",
   "metadata": {},
   "outputs": [
    {
     "data": {
      "text/html": [
       "<div>\n",
       "<style scoped>\n",
       "    .dataframe tbody tr th:only-of-type {\n",
       "        vertical-align: middle;\n",
       "    }\n",
       "\n",
       "    .dataframe tbody tr th {\n",
       "        vertical-align: top;\n",
       "    }\n",
       "\n",
       "    .dataframe thead th {\n",
       "        text-align: right;\n",
       "    }\n",
       "</style>\n",
       "<table border=\"1\" class=\"dataframe\">\n",
       "  <thead>\n",
       "    <tr style=\"text-align: right;\">\n",
       "      <th></th>\n",
       "      <th>InvoiceID</th>\n",
       "      <th>StockCode</th>\n",
       "      <th>Description</th>\n",
       "      <th>Quantity</th>\n",
       "      <th>InvoiceDate</th>\n",
       "      <th>UnitPrice</th>\n",
       "      <th>Customer ID</th>\n",
       "      <th>Country</th>\n",
       "    </tr>\n",
       "  </thead>\n",
       "  <tbody>\n",
       "    <tr>\n",
       "      <th>0</th>\n",
       "      <td>489434</td>\n",
       "      <td>85048</td>\n",
       "      <td>15CM CHRISTMAS GLASS BALL 20 LIGHTS</td>\n",
       "      <td>12</td>\n",
       "      <td>2009-12-01 07:45:00</td>\n",
       "      <td>6.95</td>\n",
       "      <td>13085.0</td>\n",
       "      <td>United Kingdom</td>\n",
       "    </tr>\n",
       "    <tr>\n",
       "      <th>1</th>\n",
       "      <td>489434</td>\n",
       "      <td>79323P</td>\n",
       "      <td>PINK CHERRY LIGHTS</td>\n",
       "      <td>12</td>\n",
       "      <td>2009-12-01 07:45:00</td>\n",
       "      <td>6.75</td>\n",
       "      <td>13085.0</td>\n",
       "      <td>United Kingdom</td>\n",
       "    </tr>\n",
       "    <tr>\n",
       "      <th>2</th>\n",
       "      <td>489434</td>\n",
       "      <td>79323W</td>\n",
       "      <td>WHITE CHERRY LIGHTS</td>\n",
       "      <td>12</td>\n",
       "      <td>2009-12-01 07:45:00</td>\n",
       "      <td>6.75</td>\n",
       "      <td>13085.0</td>\n",
       "      <td>United Kingdom</td>\n",
       "    </tr>\n",
       "    <tr>\n",
       "      <th>3</th>\n",
       "      <td>489434</td>\n",
       "      <td>22041</td>\n",
       "      <td>RECORD FRAME 7\" SINGLE SIZE</td>\n",
       "      <td>48</td>\n",
       "      <td>2009-12-01 07:45:00</td>\n",
       "      <td>2.10</td>\n",
       "      <td>13085.0</td>\n",
       "      <td>United Kingdom</td>\n",
       "    </tr>\n",
       "    <tr>\n",
       "      <th>4</th>\n",
       "      <td>489434</td>\n",
       "      <td>21232</td>\n",
       "      <td>STRAWBERRY CERAMIC TRINKET BOX</td>\n",
       "      <td>24</td>\n",
       "      <td>2009-12-01 07:45:00</td>\n",
       "      <td>1.25</td>\n",
       "      <td>13085.0</td>\n",
       "      <td>United Kingdom</td>\n",
       "    </tr>\n",
       "  </tbody>\n",
       "</table>\n",
       "</div>"
      ],
      "text/plain": [
       "  InvoiceID StockCode  ... Customer ID         Country\n",
       "0    489434     85048  ...     13085.0  United Kingdom\n",
       "1    489434    79323P  ...     13085.0  United Kingdom\n",
       "2    489434    79323W  ...     13085.0  United Kingdom\n",
       "3    489434     22041  ...     13085.0  United Kingdom\n",
       "4    489434     21232  ...     13085.0  United Kingdom\n",
       "\n",
       "[5 rows x 8 columns]"
      ]
     },
     "execution_count": 17,
     "metadata": {},
     "output_type": "execute_result"
    }
   ],
   "source": [
    "purchase_df.dropna(inplace = True)\n",
    "purchase_df.head()"
   ]
  },
  {
   "cell_type": "code",
   "execution_count": 18,
   "id": "4524a175",
   "metadata": {},
   "outputs": [
    {
     "data": {
      "text/plain": [
       "InvoiceID      0\n",
       "StockCode      0\n",
       "Description    0\n",
       "Quantity       0\n",
       "InvoiceDate    0\n",
       "UnitPrice      0\n",
       "Customer ID    0\n",
       "Country        0\n",
       "dtype: int64"
      ]
     },
     "execution_count": 18,
     "metadata": {},
     "output_type": "execute_result"
    }
   ],
   "source": [
    "purchase_df.isnull().sum()"
   ]
  },
  {
   "cell_type": "code",
   "execution_count": 19,
   "id": "688b5a03",
   "metadata": {},
   "outputs": [],
   "source": [
    "# converting InvoiceDate to datetime object\n",
    "purchase_df['InvoiceDate'] = pd.to_datetime(purchase_df['InvoiceDate'])"
   ]
  },
  {
   "cell_type": "code",
   "execution_count": 20,
   "id": "2b2eaa6c",
   "metadata": {},
   "outputs": [
    {
     "name": "stdout",
     "output_type": "stream",
     "text": [
      "<class 'pandas.core.frame.DataFrame'>\n",
      "Int64Index: 824364 entries, 0 to 1067370\n",
      "Data columns (total 8 columns):\n",
      " #   Column       Non-Null Count   Dtype         \n",
      "---  ------       --------------   -----         \n",
      " 0   InvoiceID    824364 non-null  object        \n",
      " 1   StockCode    824364 non-null  object        \n",
      " 2   Description  824364 non-null  object        \n",
      " 3   Quantity     824364 non-null  int64         \n",
      " 4   InvoiceDate  824364 non-null  datetime64[ns]\n",
      " 5   UnitPrice    824364 non-null  float64       \n",
      " 6   Customer ID  824364 non-null  float64       \n",
      " 7   Country      824364 non-null  object        \n",
      "dtypes: datetime64[ns](1), float64(2), int64(1), object(4)\n",
      "memory usage: 56.6+ MB\n"
     ]
    }
   ],
   "source": [
    "purchase_df.info()"
   ]
  },
  {
   "cell_type": "code",
   "execution_count": 21,
   "id": "81055ae2",
   "metadata": {},
   "outputs": [
    {
     "data": {
      "text/html": [
       "<div>\n",
       "<style scoped>\n",
       "    .dataframe tbody tr th:only-of-type {\n",
       "        vertical-align: middle;\n",
       "    }\n",
       "\n",
       "    .dataframe tbody tr th {\n",
       "        vertical-align: top;\n",
       "    }\n",
       "\n",
       "    .dataframe thead th {\n",
       "        text-align: right;\n",
       "    }\n",
       "</style>\n",
       "<table border=\"1\" class=\"dataframe\">\n",
       "  <thead>\n",
       "    <tr style=\"text-align: right;\">\n",
       "      <th></th>\n",
       "      <th>InvoiceDate</th>\n",
       "    </tr>\n",
       "  </thead>\n",
       "  <tbody>\n",
       "    <tr>\n",
       "      <th>count</th>\n",
       "      <td>824364</td>\n",
       "    </tr>\n",
       "    <tr>\n",
       "      <th>unique</th>\n",
       "      <td>41439</td>\n",
       "    </tr>\n",
       "    <tr>\n",
       "      <th>top</th>\n",
       "      <td>2011-11-14 15:27:00</td>\n",
       "    </tr>\n",
       "    <tr>\n",
       "      <th>freq</th>\n",
       "      <td>543</td>\n",
       "    </tr>\n",
       "    <tr>\n",
       "      <th>first</th>\n",
       "      <td>2009-12-01 07:45:00</td>\n",
       "    </tr>\n",
       "    <tr>\n",
       "      <th>last</th>\n",
       "      <td>2011-12-09 12:50:00</td>\n",
       "    </tr>\n",
       "  </tbody>\n",
       "</table>\n",
       "</div>"
      ],
      "text/plain": [
       "                InvoiceDate\n",
       "count                824364\n",
       "unique                41439\n",
       "top     2011-11-14 15:27:00\n",
       "freq                    543\n",
       "first   2009-12-01 07:45:00\n",
       "last    2011-12-09 12:50:00"
      ]
     },
     "execution_count": 21,
     "metadata": {},
     "output_type": "execute_result"
    }
   ],
   "source": [
    "pd.DataFrame(purchase_df['InvoiceDate'].describe())"
   ]
  },
  {
   "cell_type": "markdown",
   "id": "f3bc99c4",
   "metadata": {},
   "source": [
    "* Looking at the dataframe above ,  we can notice that onlice purchases made by customers starts from 2009-12-01 to 2011-12-09"
   ]
  },
  {
   "cell_type": "markdown",
   "id": "30964464",
   "metadata": {},
   "source": [
    "## Exploratory Data  Analysis (EDA)"
   ]
  },
  {
   "cell_type": "code",
   "execution_count": 23,
   "id": "973d5fdb",
   "metadata": {},
   "outputs": [
    {
     "ename": "SyntaxError",
     "evalue": "f-string: unmatched '[' (1968864749.py, line 2)",
     "output_type": "error",
     "traceback": [
      "\u001b[1;36m  File \u001b[1;32m\"C:\\Users\\user\\AppData\\Local\\Temp\\ipykernel_6428\\1968864749.py\"\u001b[1;36m, line \u001b[1;32m2\u001b[0m\n\u001b[1;33m    print(f'The total number of online customers : {len(purchase_df['Customer ID'].unique())} customers ')\u001b[0m\n\u001b[1;37m                                                                     ^\u001b[0m\n\u001b[1;31mSyntaxError\u001b[0m\u001b[1;31m:\u001b[0m f-string: unmatched '['\n"
     ]
    }
   ],
   "source": [
    "# number of customers\n",
    "print(f'The total number of online customers : {len(purchase_df.CustomerID.unique())} customers ')"
   ]
  },
  {
   "cell_type": "code",
   "execution_count": null,
   "id": "93f585cc",
   "metadata": {},
   "outputs": [],
   "source": [
    "# number of countries\n",
    "print(f'The total countries each customer is situated : {len(purchase_df.Country.unique())} countries ')"
   ]
  },
  {
   "cell_type": "markdown",
   "id": "fef7609a",
   "metadata": {},
   "source": [
    "* __What countries are represented most in the dataset:__"
   ]
  },
  {
   "cell_type": "code",
   "execution_count": null,
   "id": "8f25eb9c",
   "metadata": {},
   "outputs": [],
   "source": [
    "cus_cntry_df =  purchase_df.groupby(['Customer ID', 'Country']).count().reset_index()\n",
    "cus_cntry_df = cus_cntry_df.groupby('Country')['Customer ID'].count().reset_index().sort_values(\n",
    "    by=['Customer ID'], ascending=False)\n",
    "\n",
    "# Create a new column, Percentage to calculate the customer representation in percentage\n",
    "cus_cntry_df['Percentage']= np.round(cus_cntry_df.CustomerID / cus_cntry_df.CustomerID.sum() * 100, 2)\n",
    "\n",
    "cus_cntry_df.head(10)"
   ]
  },
  {
   "cell_type": "code",
   "execution_count": null,
   "id": "807c06d0",
   "metadata": {},
   "outputs": [],
   "source": [
    "percent_margin = 0.25\n",
    "cus_cntry_df['CountryCategory'] = cus_cntry_df['Country']\n",
    "# Set Countries with Percentage less than or equal to percent_margin to 'Other Countries'\n",
    "\n",
    "cus_cntry_df.loc[cus_cntry_df.Percentage <= percent_margin, 'CountryCategory'] = 'Other Countries'\n",
    "\n",
    "cus_cntry_df.head(11)"
   ]
  },
  {
   "cell_type": "code",
   "execution_count": null,
   "id": "58edfcbc",
   "metadata": {},
   "outputs": [],
   "source": [
    "# plot on how each countries are represented\n",
    "plt.figure(figsize = (20,10))\n",
    "country =cus_cntry_df['Percentage'][:11]\n",
    "label = cus_cntry_df['CountryCategory'][:11]\n",
    "\n",
    "# define Seaborn color palette to use\n",
    "palette_color = sns.color_palette('bright')\n",
    "plt.pie(country,labels = label,colors = palette_color,autopct='%.0f%%')\n",
    "plt.axis('equal')  \n",
    "plt.tight_layout()\n",
    "plt.title('Top 10 Countries customers are living in',fontweight = 'bold',fontsize = 23);"
   ]
  },
  {
   "cell_type": "markdown",
   "id": "54fc2c50",
   "metadata": {},
   "source": [
    "**A far majority of online customers live in the United Kingdom which 92% ratio**"
   ]
  },
  {
   "cell_type": "code",
   "execution_count": null,
   "id": "e6d6fffc",
   "metadata": {},
   "outputs": [],
   "source": []
  },
  {
   "cell_type": "markdown",
   "id": "80b44a76",
   "metadata": {},
   "source": [
    "* __Calculate the revenue that was made in each month and what is the percentage revenue based on countries?__"
   ]
  },
  {
   "cell_type": "code",
   "execution_count": null,
   "id": "bbe705cf",
   "metadata": {},
   "outputs": [],
   "source": [
    "purchase_df['Revenue'] = purchase_df['UnitPrice'] * purchase_df['Quantity']\n",
    "purchase_df.head()"
   ]
  },
  {
   "cell_type": "code",
   "execution_count": null,
   "id": "ea47edfa",
   "metadata": {},
   "outputs": [],
   "source": [
    "cus_revenue = purchase_df[['InvoiceDate','Revenue']]\n",
    "cus_revenue.index = pd.to_datetime(cus_revenue['InvoiceDate'])\n",
    "cus_revenue = cus_revenue.resample('M').sum()\n",
    "cus_revenue.head()"
   ]
  },
  {
   "cell_type": "code",
   "execution_count": null,
   "id": "30d22e6c",
   "metadata": {},
   "outputs": [],
   "source": [
    "cus_revenue.describe()"
   ]
  },
  {
   "cell_type": "code",
   "execution_count": null,
   "id": "5852c090",
   "metadata": {},
   "outputs": [],
   "source": [
    "plt.figure(figsize = (30,5))\n",
    "sns.lineplot(data = cus_revenue,y='Revenue',x=cus_revenue.index)\n",
    "plt.title('Monthly Revenue from Dec.2009 to Jan.2012',fontweight = 'bold')\n",
    "plt.xlabel('Invoice Date-Monthly')\n",
    "plt.ylabel('Monthly Revenue');"
   ]
  },
  {
   "cell_type": "markdown",
   "id": "85fc2bd0",
   "metadata": {},
   "source": [
    "**Here, one can observe that the company recorded its highest revenue in the month of November 2010, followed by November 2011. In addition, there is a rise in monthly revenue after August.**"
   ]
  },
  {
   "cell_type": "code",
   "execution_count": null,
   "id": "588f14d4",
   "metadata": {},
   "outputs": [],
   "source": [
    "\n",
    "cus_revenue['MonthlyGrowth'] = cus_revenue['Revenue'].pct_change()\n",
    "plt.figure(figsize = (30,5))\n",
    "plt.plot(cus_revenue.index,cus_revenue['MonthlyGrowth'])\n",
    "plt.title('Monthly Revenue Growth from Dec.2009 to jan.2012',fontweight = 'bold')\n",
    "plt.xlabel('Invoice Date-Monthly')\n",
    "plt.ylabel('Monthly Revenue');"
   ]
  },
  {
   "cell_type": "markdown",
   "id": "a5021e52",
   "metadata": {},
   "source": [
    "__we experience monthly growth peak around three periods in a year which are, January, March and August and then experience downdard trend around Decemeber and April__"
   ]
  },
  {
   "cell_type": "markdown",
   "id": "d60a36bd",
   "metadata": {},
   "source": [
    "## Monthly Active Customers"
   ]
  },
  {
   "cell_type": "code",
   "execution_count": null,
   "id": "655114fb",
   "metadata": {},
   "outputs": [],
   "source": [
    "cus_monthly_active = (purchase_df[['Customer ID','InvoiceDate']])\n",
    "cus_monthly_active = cus_monthly_active.groupby(pd.Grouper(key='InvoiceDate', freq='M'))['CustomerID'].nunique().reset_index()\n",
    "cus_monthly_active"
   ]
  },
  {
   "cell_type": "code",
   "execution_count": null,
   "id": "100d292d",
   "metadata": {
    "scrolled": true
   },
   "outputs": [],
   "source": [
    "plt.figure(figsize=(20,6))\n",
    "plt.bar(cus_monthly_active['InvoiceDate'],cus_monthly_active['Customer ID'])\n",
    "plt.title('MONTHLY ACTIVE USERS')\n",
    "plt.xticks(rotation =90);"
   ]
  },
  {
   "cell_type": "markdown",
   "id": "bd508ae1",
   "metadata": {},
   "source": [
    "__More active users around August,Octoberand November__"
   ]
  },
  {
   "cell_type": "markdown",
   "id": "0c480587",
   "metadata": {},
   "source": [
    "## Monthly Order Count"
   ]
  },
  {
   "cell_type": "code",
   "execution_count": null,
   "id": "0a77dd6a",
   "metadata": {},
   "outputs": [],
   "source": [
    "\n",
    "#create a new dataframe for no. of order by using quantity field\n",
    "cus_monthly_order = (purchase_df[['InvoiceDate','Quantity']])\n",
    "cus_monthly_order = cus_monthly_order.groupby(pd.Grouper(key='InvoiceDate', freq='M'))['Quantity'].sum().reset_index()\n",
    "cus_monthly_order.head()"
   ]
  },
  {
   "cell_type": "code",
   "execution_count": null,
   "id": "eff2f689",
   "metadata": {},
   "outputs": [],
   "source": [
    "plt.figure(figsize=(20,6))\n",
    "plt.bar(cus_monthly_order['InvoiceDate'],cus_monthly_order['Quantity'])\n",
    "plt.title('MONTHLY USERS ORDER')\n",
    "plt.xticks(rotation =90);"
   ]
  },
  {
   "cell_type": "markdown",
   "id": "459f41bd",
   "metadata": {},
   "source": [
    "__As expected a decrease in April and December, We know that Active Customer Count directly affected Order Count decrease.__"
   ]
  },
  {
   "cell_type": "markdown",
   "id": "5b950fe3",
   "metadata": {},
   "source": [
    "## Average Revenue per Order"
   ]
  },
  {
   "cell_type": "code",
   "execution_count": null,
   "id": "43199108",
   "metadata": {},
   "outputs": [],
   "source": [
    "cus_monthly_order_rev = (purchase_df[['InvoiceDate','Revenue']])\n",
    "cus_monthly_order_rev = cus_monthly_order_rev.groupby(pd.Grouper(key='InvoiceDate', freq='M'))['Revenue'].mean().reset_index()\n",
    "cus_monthly_order_rev.head()"
   ]
  },
  {
   "cell_type": "code",
   "execution_count": null,
   "id": "937afd33",
   "metadata": {},
   "outputs": [],
   "source": [
    "plt.figure(figsize=(20,6))\n",
    "plt.bar(cus_monthly_order_rev['InvoiceDate'],cus_monthly_order_rev['Revenue'])\n",
    "plt.title('MONTHLY USERS ORDER REVENUE')\n",
    "plt.xticks(rotation =90);"
   ]
  },
  {
   "cell_type": "markdown",
   "id": "efa279c6",
   "metadata": {},
   "source": [
    "### Next, explore the percentage revenue generated by the retail shop based on the countries their customers reside"
   ]
  },
  {
   "cell_type": "code",
   "execution_count": null,
   "id": "09d0f504",
   "metadata": {},
   "outputs": [],
   "source": [
    "cntry_revenue_df = purchase_df.groupby(['Country'])['Revenue'].sum().reset_index().sort_values(by=['Revenue'], \n",
    "                                                                                        ascending=False)\n",
    "\n",
    "cntry_revenue_df['Percentage'] = np.round(cntry_revenue_df.Revenue / cntry_revenue_df.Revenue.sum() * 100, 2)\n",
    "\n",
    "cntry_revenue_df.head(5)"
   ]
  },
  {
   "cell_type": "markdown",
   "id": "c69a7b12",
   "metadata": {},
   "source": [
    "From the output above, the top 5 countries with respect to revenue generated are:\n",
    "\n",
    "* The United Kingdom\n",
    "* The Republic of Ireland (EIRE)\n",
    "* The Netherlands\n",
    "* Germany\n",
    "* France\n",
    "with the United Kingdom recording the highest in percentage(83)"
   ]
  },
  {
   "cell_type": "code",
   "execution_count": null,
   "id": "a52f1da4",
   "metadata": {},
   "outputs": [],
   "source": [
    "## group countries with revenue percentage value less than or equal to 0.25 together and then plot a pie chart.\n",
    "percent_margin = 0.25\n",
    "\n",
    "# Create a new column, CountryCategory and set values to the corresponding values of the Country column\n",
    "cntry_revenue_df['CountryCategory'] = cntry_revenue_df.Country\n",
    "\n",
    "# Set Countries with Percentage less than or equal to percent_margin to 'Other Countries'\n",
    "\n",
    "cntry_revenue_df.loc[cntry_revenue_df.Percentage <= percent_margin, 'CountryCategory'] = 'Other Countries'\n",
    "\n",
    "cntry_revenue_df.head(11)"
   ]
  },
  {
   "cell_type": "code",
   "execution_count": null,
   "id": "4b256675",
   "metadata": {},
   "outputs": [],
   "source": [
    "# countrues based revenue\n",
    "plt.figure(figsize = (20,10))\n",
    "country =cntry_revenue_df['Percentage'][:11]\n",
    "label = cntry_revenue_df['CountryCategory'][:11]\n",
    "\n",
    "# define Seaborn color palette to use\n",
    "palette_color = sns.color_palette('bright')\n",
    "plt.pie(country,labels = label,colors = palette_color,autopct='%.0f%%')\n",
    "plt.axis('equal')  \n",
    "plt.tight_layout()\n",
    "plt.title('Top 10 Countries customers are living in',fontweight = 'bold',fontsize = 23);"
   ]
  },
  {
   "cell_type": "markdown",
   "id": "bded6af2",
   "metadata": {},
   "source": [
    "**With such a huge customer base in the United Kingdom, it is not surprising that 83% of the company’s revenue came from the United Kingdom.**"
   ]
  },
  {
   "cell_type": "code",
   "execution_count": null,
   "id": "3a1efbfb",
   "metadata": {},
   "outputs": [],
   "source": [
    "# highest selling product\n",
    "\n",
    "high_sell_product = pd.DataFrame(purchase_df.groupby('Description')['Revenue'].sum().sort_values(ascending=False))\n",
    "\n",
    "high_sell_product[:10]"
   ]
  },
  {
   "cell_type": "code",
   "execution_count": null,
   "id": "9e17b373",
   "metadata": {},
   "outputs": [],
   "source": [
    "plt.figure(figsize=(15,5))\n",
    "sns.barplot(data = high_sell_product[:10],y='Revenue',x=high_sell_product[:10].index)\n",
    "plt.title('Highest revenue product')\n",
    "plt.xticks(rotation = 90);"
   ]
  },
  {
   "cell_type": "code",
   "execution_count": null,
   "id": "4d6a5868",
   "metadata": {},
   "outputs": [],
   "source": [
    "# least selling product\n",
    "\n",
    "least_sell_product = pd.DataFrame(purchase_df.groupby('Description')['Revenue'].sum().sort_values(ascending=True))\n",
    "\n",
    "least_sell_product[:10]\n",
    "\n",
    "plt.figure(figsize=(15,5))\n",
    "sns.barplot(data = least_sell_product[:10],y='Revenue',x=least_sell_product[:10].index)\n",
    "plt.title('least revenue product')\n",
    "plt.xticks(rotation = 90);"
   ]
  },
  {
   "cell_type": "markdown",
   "id": "f42a4272",
   "metadata": {},
   "source": [
    "## Observation :\n",
    "* Some product gave negative revenue, and i feel that made because they were returned so no revenue was generated from them"
   ]
  },
  {
   "cell_type": "markdown",
   "id": "daa54e44",
   "metadata": {},
   "source": [
    "## Predicting customer's purchase"
   ]
  },
  {
   "cell_type": "markdown",
   "id": "e3b8674d",
   "metadata": {},
   "source": [
    "The goal of this section is to come up with a make a model using the given dataframe df_data, to estimate if a given customer will buy something again from the online shop in the next quarter.\n",
    "\n",
    "Splitting the dataframe into two sub-dataframe :\n",
    "* The first dataframe contains the last purchase of the customers from 01–12–2009 to 30–08–2011. This dataset gives the last purchase of all the online customers.This dataframe will be used to study the behavioural purchases of the online customers.\n",
    "\n",
    "\n",
    "* The second dataframe contains the first purchase of the customers from  01–09–2011 to 9–12–2011 to get thier first purchase,will be used to study the behavioural purchases of the customers in the next quarter.\n"
   ]
  },
  {
   "cell_type": "code",
   "execution_count": null,
   "id": "58597688",
   "metadata": {},
   "outputs": [],
   "source": [
    "purchase_df"
   ]
  },
  {
   "cell_type": "code",
   "execution_count": null,
   "id": "32b0d8db",
   "metadata": {},
   "outputs": [],
   "source": [
    "# Creating cohort analysis\n",
    "cus_past_df = purchase_df[(purchase_df['InvoiceDate'] >= pd.Timestamp(2009,12,1)) & (purchase_df['InvoiceDate'] < \n",
    "                                                                                    pd.Timestamp(2011,9,1))].reset_index(drop=True)\n",
    "\n",
    "cus_next_quarter = purchase_df[(purchase_df['InvoiceDate'] >= pd.Timestamp(2011,9,1)) & (purchase_df['InvoiceDate'] < \n",
    "                                                                                    pd.Timestamp(2011,12,9))].reset_index(drop=True)"
   ]
  },
  {
   "cell_type": "code",
   "execution_count": null,
   "id": "a4873e1c",
   "metadata": {},
   "outputs": [],
   "source": [
    "cus_past_df['InvoiceDate'].min(),cus_past_df['InvoiceDate'].max(),cus_next_quarter['InvoiceDate'].min(),cus_next_quarter['InvoiceDate'].max()"
   ]
  },
  {
   "cell_type": "code",
   "execution_count": null,
   "id": "0b98ff27",
   "metadata": {},
   "outputs": [],
   "source": [
    "# get the distinst customers in cus_past_df\n",
    "cus_df = pd.DataFrame(cus_past_df['Customer ID'].unique())\n",
    "cus_df.columns = ['Customer ID']"
   ]
  },
  {
   "cell_type": "code",
   "execution_count": null,
   "id": "dfaf9e88",
   "metadata": {},
   "outputs": [],
   "source": [
    "cus_df.head()"
   ]
  },
  {
   "cell_type": "markdown",
   "id": "77d697cb",
   "metadata": {},
   "source": [
    "Let's find the first purchase made by each customer in the next quarter."
   ]
  },
  {
   "cell_type": "code",
   "execution_count": null,
   "id": "6aee8920",
   "metadata": {},
   "outputs": [],
   "source": [
    "# Create a dataframe with CustomerID and customers first purchase \n",
    "# date in cus_next_quarter\n",
    "\n",
    "cus_1st_purchase_in_next_quarter = cus_next_quarter.groupby('Customer ID')['InvoiceDate'].min().reset_index()\n",
    "cus_1st_purchase_in_next_quarter.columns = ['Customer ID','FirstPurchaseDate']\n",
    "cus_1st_purchase_in_next_quarter.head()"
   ]
  },
  {
   "cell_type": "markdown",
   "id": "010d2167",
   "metadata": {},
   "source": [
    "Let's find the last purchase made by each customer in the dataframe `cus_past_df`"
   ]
  },
  {
   "cell_type": "code",
   "execution_count": null,
   "id": "e42deda9",
   "metadata": {},
   "outputs": [],
   "source": [
    "cus_last_purchase_past_df = cus_past_df.groupby('Customer ID')['InvoiceDate'].max().reset_index()\n",
    "cus_last_purchase_past_df.columns = ['CustomerID','LastPurchaseDate']\n",
    "cus_last_purchase_past_df.head()"
   ]
  },
  {
   "cell_type": "code",
   "execution_count": null,
   "id": "d6202685",
   "metadata": {},
   "outputs": [],
   "source": [
    "# Merge two dataframes cus_last_purchase_past_df and cus_1st_purchase_in_next_quarter\n",
    "cus_purchase_dates = pd.merge(cus_last_purchase_past_df,cus_1st_purchase_in_next_quarter,on='CustomerID',how = 'left')\n",
    "cus_purchase_dates.head()"
   ]
  },
  {
   "cell_type": "markdown",
   "id": "dfc9905c",
   "metadata": {},
   "source": [
    "Let's calculate the time difference in days between customer's last purchase in the dataframe `cus_last_purchase_past_df` and the first purchase in the dataframe `cus_1st_purchase_in_next_quarter`."
   ]
  },
  {
   "cell_type": "code",
   "execution_count": null,
   "id": "ff305666",
   "metadata": {},
   "outputs": [],
   "source": [
    "cus_purchase_dates['NextPurchaseDay'] = (cus_purchase_dates['FirstPurchaseDate'] - cus_purchase_dates['LastPurchaseDate']).dt.days\n",
    "cus_purchase_dates.head()"
   ]
  },
  {
   "cell_type": "code",
   "execution_count": null,
   "id": "b1c769e9",
   "metadata": {},
   "outputs": [],
   "source": [
    "# merge with cus_df\n",
    "\n",
    "cus_df = pd.merge(cus_df,cus_purchase_dates[['Customer ID','NextPurchaseDay']],on='CustomerID',how='left')\n",
    "\n",
    "cus_df.head()"
   ]
  },
  {
   "cell_type": "code",
   "execution_count": null,
   "id": "17bf0a9e",
   "metadata": {},
   "outputs": [],
   "source": [
    "# updating missing values with 9999 assuming they take along time to purchase sometime\n",
    "\n",
    "cus_df.fillna(9999,inplace=True)\n",
    "cus_df.head()"
   ]
  },
  {
   "cell_type": "markdown",
   "id": "78eda49d",
   "metadata": {},
   "source": [
    "Next, we will define some features and add them to the dataframe ctm_dt to build our machine learning model. We will use the Recency - Frequency - Monetary Value segmentation method. That is, we will put the customers into groups based on the following:\n",
    "\n",
    "* __Recency:__ Customers purchase behaviour based on their most recent purchase date and how many days they have been inactive since their last purchase.\n",
    "\n",
    "* __Frequency:__ Customers purchase behaviour based on the number of times they buy from the online retail shop.\n",
    "\n",
    "* __Monetary Value/Revenue:__ Customers purchase behaviour based the revenue they generate.\n",
    "\n",
    "After we will apply K-means clustering to assign customers a score to each of the features.\n",
    "\n",
    "\n",
    "## Recency\n",
    "find the most recent purchase date of each customer and see how many days they have been inactive. Afterwards, we can apply K-means clustering to assign customers a recency score.`"
   ]
  },
  {
   "cell_type": "code",
   "execution_count": null,
   "id": "d30ca23a",
   "metadata": {},
   "outputs": [],
   "source": [
    "cus_max_purchase = cus_past_df.groupby('Customer ID')['InvoiceDate'].max().reset_index()\n",
    "cus_max_purchase.columns = ['CustomerID','LastPurchaseDate']\n",
    "cus_max_purchase.head()"
   ]
  },
  {
   "cell_type": "code",
   "execution_count": null,
   "id": "f44ae3f3",
   "metadata": {},
   "outputs": [],
   "source": [
    "cus_max_purchase['Recency'] = (cus_max_purchase['LastPurchaseDate'].max()-cus_max_purchase['LastPurchaseDate']).dt.days\n",
    "\n",
    "cus_df = pd.merge(cus_df,cus_max_purchase[['Customer ID','Recency']],on='CustomerID')\n",
    "\n",
    "cus_df.head()"
   ]
  },
  {
   "cell_type": "code",
   "execution_count": null,
   "id": "63fe261e",
   "metadata": {},
   "outputs": [],
   "source": [
    "pd.DataFrame(cus_df['Recency'].describe())"
   ]
  },
  {
   "cell_type": "code",
   "execution_count": null,
   "id": "603eb669",
   "metadata": {},
   "outputs": [],
   "source": [
    "plt.figure(figsize = (15,6))\n",
    "sns.histplot(x='Recency',data=cus_df)\n",
    "plt.title(\"Customers Recency in Days\");"
   ]
  },
  {
   "cell_type": "markdown",
   "id": "efff926c",
   "metadata": {},
   "source": [
    "Next we will apply K-means clustering to assign a recency score. However, we need to know how many clusters in order to use the K-means algorithm. "
   ]
  },
  {
   "cell_type": "code",
   "execution_count": null,
   "id": "1acfb4c0",
   "metadata": {},
   "outputs": [],
   "source": [
    "my_dict={}\n",
    "cus_recency = cus_df[['Recency']]\n",
    "for idx in range(1, 10):\n",
    "    kmeans = KMeans(n_clusters=idx, max_iter=1000).fit(cus_recency)\n",
    "    cus_recency[\"clusters\"] = kmeans.labels_\n",
    "    my_dict[idx] = kmeans.inertia_ \n",
    "    \n",
    "plt.figure(figsize=(10,5))\n",
    "sns.lineplot(x=list(my_dict.keys()),y=list(my_dict.values()))"
   ]
  },
  {
   "cell_type": "code",
   "execution_count": null,
   "id": "0ede9466",
   "metadata": {},
   "outputs": [],
   "source": [
    "number_of_clusters = 4\n",
    "kmeans = KMeans(n_clusters=number_of_clusters)\n",
    "kmeans.fit(cus_df[['Recency']])\n",
    "cus_df['RecencyCluster'] = kmeans.predict(cus_df[['Recency']])\n",
    "cus_df.head()"
   ]
  },
  {
   "cell_type": "code",
   "execution_count": null,
   "id": "e0edded0",
   "metadata": {},
   "outputs": [],
   "source": [
    "def order_cluster(df, target_field_name, cluster_field_name, ascending):\n",
    "    \"\"\"\n",
    "    INPUT:\n",
    "        - df                  - pandas DataFrame\n",
    "        - target_field_name   - str - A column in the pandas DataFrame df\n",
    "        - cluster_field_name  - str - Expected to be a column in the pandas DataFrame df\n",
    "        - ascending           - Boolean\n",
    "        \n",
    "    OUTPUT:\n",
    "        - df_final            - pandas DataFrame with target_field_name and cluster_field_name as columns\n",
    "    \n",
    "    \"\"\"\n",
    "    # Add the string \"new_\" to cluster_field_name\n",
    "    new_cluster_field_name = \"new_\" + cluster_field_name\n",
    "    \n",
    "    # Create a new dataframe by grouping the input dataframe by cluster_field_name and extract target_field_name \n",
    "    # and find the mean\n",
    "    df_new = df.groupby(cluster_field_name)[target_field_name].mean().reset_index()\n",
    "    \n",
    "    # Sort the new dataframe df_new, by target_field_name in descending order\n",
    "    df_new = df_new.sort_values(by=target_field_name, ascending=ascending).reset_index(drop=True)\n",
    "    \n",
    "    # Create a new column in df_new with column name index and assign it values to df_new.index\n",
    "    df_new[\"index\"] = df_new.index\n",
    "    \n",
    "    # Create a new dataframe by merging input dataframe df and part of the columns of df_new based on \n",
    "    # cluster_field_name\n",
    "    df_final = pd.merge(df, df_new[[cluster_field_name, \"index\"]], on=cluster_field_name)\n",
    "    \n",
    "    # Update the dataframe df_final by deleting the column cluster_field_name\n",
    "    df_final = df_final.drop([cluster_field_name], axis=1)\n",
    "    \n",
    "    # Rename the column index to cluster_field_name\n",
    "    df_final = df_final.rename(columns={\"index\": cluster_field_name})\n",
    "    \n",
    "    return df_final"
   ]
  },
  {
   "cell_type": "code",
   "execution_count": null,
   "id": "ca658970",
   "metadata": {},
   "outputs": [],
   "source": [
    "cus_df= order_cluster(cus_df, 'Recency', 'RecencyCluster', False)\n",
    "cus_df.head()"
   ]
  },
  {
   "cell_type": "code",
   "execution_count": null,
   "id": "666510c1",
   "metadata": {},
   "outputs": [],
   "source": [
    "#print cluster characteristics\n",
    "cus_df.groupby('RecencyCluster')['Recency'].describe()"
   ]
  },
  {
   "cell_type": "markdown",
   "id": "5e418ccc",
   "metadata": {},
   "source": [
    "\n",
    "Observe from the above that,3 covers the most recent customers whereas 1 has the most inactive customers."
   ]
  },
  {
   "cell_type": "markdown",
   "id": "ec4c8517",
   "metadata": {},
   "source": [
    "## Frequency"
   ]
  },
  {
   "cell_type": "markdown",
   "id": "e3c15259",
   "metadata": {},
   "source": [
    "Next, we will find customers purchase behaviour based on the number of times they buy from the online retail shop. That is, the total number of orders by each customer."
   ]
  },
  {
   "cell_type": "code",
   "execution_count": null,
   "id": "67ee5903",
   "metadata": {},
   "outputs": [],
   "source": [
    "#get order counts for each user and create a dataframe with it\n",
    "\n",
    "cus_frequency = cus_past_df.groupby('Customer ID')['InvoiceDate'].count().reset_index()\n",
    "cus_frequency.columns = ['CustomerID','Frequency']\n",
    "cus_frequency.head()"
   ]
  },
  {
   "cell_type": "code",
   "execution_count": null,
   "id": "a0e2fc98",
   "metadata": {},
   "outputs": [],
   "source": [
    "cus_df = pd.merge(cus_df,cus_frequency,on = 'Customer ID')\n",
    "\n",
    "cus_df.head()"
   ]
  },
  {
   "cell_type": "code",
   "execution_count": null,
   "id": "6428b7ab",
   "metadata": {},
   "outputs": [],
   "source": [
    "pd.DataFrame(cus_df['Frequency'].describe())"
   ]
  },
  {
   "cell_type": "code",
   "execution_count": null,
   "id": "c571bf54",
   "metadata": {},
   "outputs": [],
   "source": [
    "plt.figure(figsize = (10,6))\n",
    "sns.histplot(x='Frequency',data=cus_df)\n",
    "plt.title(\"Customers Frequency in Days\");"
   ]
  },
  {
   "cell_type": "code",
   "execution_count": null,
   "id": "11af6f77",
   "metadata": {},
   "outputs": [],
   "source": [
    "kmeans = KMeans(n_clusters = number_of_clusters)\n",
    "kmeans.fit(cus_df[['Frequency']])\n",
    "cus_df['FrequencyCluster'] = kmeans.predict(cus_df[['Frequency']])\n",
    "\n",
    "cus_df.head()"
   ]
  },
  {
   "cell_type": "code",
   "execution_count": null,
   "id": "c2098afd",
   "metadata": {},
   "outputs": [],
   "source": [
    "cus_df = order_cluster(cus_df, 'Frequency', 'FrequencyCluster', True)\n",
    "cus_df.head()"
   ]
  },
  {
   "cell_type": "code",
   "execution_count": null,
   "id": "e17a943b",
   "metadata": {},
   "outputs": [],
   "source": [
    "#see details of each cluster\n",
    "cus_df.groupby('FrequencyCluster')['Frequency'].describe()"
   ]
  },
  {
   "cell_type": "markdown",
   "id": "93f32cca",
   "metadata": {},
   "source": [
    " higher frequency number means better customers."
   ]
  },
  {
   "cell_type": "markdown",
   "id": "b7e7bfac",
   "metadata": {},
   "source": [
    "## Revenue"
   ]
  },
  {
   "cell_type": "code",
   "execution_count": null,
   "id": "9b29b711",
   "metadata": {},
   "outputs": [],
   "source": [
    "cus_revenue = cus_past_df.groupby('Customer ID')['Revenue'].sum().reset_index()\n",
    "cus_df = pd.merge(cus_df,cus_revenue,on='CustomerID')\n",
    "cus_df.rename(columns={'Revenue':'TotalRevenue'},inplace=True)\n",
    "\n",
    "\n",
    "cus_revenue_mean = cus_past_df.groupby('CustomerID')['Revenue'].mean().reset_index()\n",
    "cus_df = pd.merge(cus_df,cus_revenue_mean,on='CustomerID')\n",
    "cus_df.rename(columns={'Revenue':'MeanRevenue'},inplace =True)\n",
    "\n",
    "cus_df.head()"
   ]
  },
  {
   "cell_type": "code",
   "execution_count": null,
   "id": "263801f8",
   "metadata": {},
   "outputs": [],
   "source": [
    "plt.figure(figsize = (10,6))\n",
    "sns.histplot(x='TotalRevenue',data=cus_df)\n",
    "plt.title(\"Customers Revenue in Days\");"
   ]
  },
  {
   "cell_type": "code",
   "execution_count": null,
   "id": "76c08ca9",
   "metadata": {},
   "outputs": [],
   "source": [
    "kmeans = KMeans(n_clusters = number_of_clusters)\n",
    "kmeans.fit(cus_df[['TotalRevenue']])\n",
    "cus_df['TotalRevenueCluster'] = kmeans.predict(cus_df[['TotalRevenue']])\n",
    "\n",
    "cus_df.head()"
   ]
  },
  {
   "cell_type": "code",
   "execution_count": null,
   "id": "41bfb95e",
   "metadata": {},
   "outputs": [],
   "source": [
    "# ordering cluster number\n",
    "cus_df = order_cluster(cus_df, 'TotalRevenue', 'TotalRevenueCluster', True)\n",
    "cus_df.head()"
   ]
  },
  {
   "cell_type": "code",
   "execution_count": null,
   "id": "32be082d",
   "metadata": {},
   "outputs": [],
   "source": [
    "pd.DataFrame(cus_df.groupby('TotalRevenueCluster')['TotalRevenue'].describe())"
   ]
  },
  {
   "cell_type": "markdown",
   "id": "3819e9e7",
   "metadata": {},
   "source": [
    "## Overall Score"
   ]
  },
  {
   "cell_type": "code",
   "execution_count": null,
   "id": "76356749",
   "metadata": {},
   "outputs": [],
   "source": [
    "#calculate overall score and use mean() to see details\n",
    "\n",
    "cus_df['OverallScore'] = cus_df['RecencyCluster'] + cus_df['FrequencyCluster'] + cus_df['TotalRevenueCluster']\n",
    "\n",
    "cus_df.groupby('OverallScore')['Recency','Frequency','TotalRevenue'].mean()"
   ]
  },
  {
   "cell_type": "markdown",
   "id": "1403e138",
   "metadata": {},
   "source": [
    "\n",
    "The scoring above clearly shows us that customers with score 8 are our best customers whereas those who score 3 are the worst."
   ]
  },
  {
   "cell_type": "code",
   "execution_count": null,
   "id": "f9518a6e",
   "metadata": {},
   "outputs": [],
   "source": [
    "cus_df['Segment'] = 'low_value'\n",
    "cus_df.loc[cus_df['OverallScore'] > 2, 'Segment'] = 'Mid-Value'\n",
    "cus_df.loc[cus_df['OverallScore'] > 4, 'Segment'] = 'High-Value'"
   ]
  },
  {
   "cell_type": "code",
   "execution_count": null,
   "id": "da1e8620",
   "metadata": {},
   "outputs": [],
   "source": [
    "fig,axs = plt.subplots(nrows=3,ncols=1,figsize=(10,10))\n",
    "sns.scatterplot(x='Frequency',y='TotalRevenue',data=cus_df,hue=cus_df['Segment'],ax=axs[0])\n",
    "sns.scatterplot(x='Recency',y='TotalRevenue',data=cus_df,hue=cus_df['Segment'],ax=axs[1])\n",
    "sns.scatterplot(x='Recency',y='Frequency',data=cus_df,hue=cus_df['Segment'],ax=axs[2])\n",
    "plt.tight_layout()"
   ]
  },
  {
   "cell_type": "code",
   "execution_count": null,
   "id": "a35b9c1b",
   "metadata": {},
   "outputs": [],
   "source": [
    "cus_df.head()"
   ]
  },
  {
   "cell_type": "code",
   "execution_count": null,
   "id": "c026f7f1",
   "metadata": {},
   "outputs": [],
   "source": [
    "#create ctm_class as a copy of ctm_dt before applying get_dummies\n",
    "cus_data = cus_df.copy()\n",
    "cus_data = pd.get_dummies(cus_data)\n",
    "cus_data.head()"
   ]
  },
  {
   "cell_type": "code",
   "execution_count": null,
   "id": "04670172",
   "metadata": {},
   "outputs": [],
   "source": [
    "cus_data['NextPurchaseDay'].describe()"
   ]
  },
  {
   "cell_type": "markdown",
   "id": "4b9e296d",
   "metadata": {},
   "source": [
    "Since our goal is to estimate whether a customer will make a purchase in the next quarter, we will create a new column NextPurchaseDayRange\n",
    "defined as follows:\n",
    "\n",
    "* 0–20: Customers that will purchase in 0–20 days — Class name: 2\n",
    "* 21–49: Customers that will purchase in 21–49 days — Class name: 1\n",
    "* ≥ 50: Customers that will purchase in more than 50 days — Class name: 0"
   ]
  },
  {
   "cell_type": "markdown",
   "id": "a211a3e5",
   "metadata": {},
   "source": [
    "### Creating target variables"
   ]
  },
  {
   "cell_type": "code",
   "execution_count": null,
   "id": "33b19104",
   "metadata": {},
   "outputs": [],
   "source": [
    "# customer purchase day range\n",
    "cus_data['NextPurchaseDayRange'] = 2\n",
    "cus_data.loc[cus_data.NextPurchaseDay>20,'NextPurchaseDayRange'] = 1\n",
    "cus_data.loc[cus_data.NextPurchaseDay>50,'NextPurchaseDayRange'] = 0"
   ]
  },
  {
   "cell_type": "markdown",
   "id": "9bdf233e",
   "metadata": {},
   "source": [
    "__Checking the correletion between the features and labels__"
   ]
  },
  {
   "cell_type": "code",
   "execution_count": null,
   "id": "42a50b8e",
   "metadata": {},
   "outputs": [],
   "source": [
    "cus_data"
   ]
  },
  {
   "cell_type": "code",
   "execution_count": null,
   "id": "5524141c",
   "metadata": {},
   "outputs": [],
   "source": [
    "# plot t\n",
    "plt.figure(figsize=(15,8))\n",
    "sns.countplot(data=cus_data,x='NextPurchaseDayRange')\n",
    "plt.title('NextPurchaseRange');"
   ]
  },
  {
   "cell_type": "markdown",
   "id": "dca001a6",
   "metadata": {},
   "source": [
    "__Dataset is very imbalance__"
   ]
  },
  {
   "cell_type": "code",
   "execution_count": null,
   "id": "12a35251",
   "metadata": {},
   "outputs": [],
   "source": [
    "corr = cus_data.corr()"
   ]
  },
  {
   "cell_type": "code",
   "execution_count": null,
   "id": "a4e6d69f",
   "metadata": {
    "scrolled": true
   },
   "outputs": [],
   "source": [
    "plt.figure(figsize=(40,30))\n",
    "sns.heatmap(corr,annot = True,fmt='.2F',linewidth = 0.2);"
   ]
  },
  {
   "cell_type": "markdown",
   "id": "2947d0a0",
   "metadata": {},
   "source": [
    "## Building Machine Learning Model"
   ]
  },
  {
   "cell_type": "code",
   "execution_count": null,
   "id": "deb5d368",
   "metadata": {},
   "outputs": [],
   "source": [
    "# dropping nextpurchaseday\n",
    "cus_data.drop('NextPurchaseDay',axis = 1,inplace = True)"
   ]
  },
  {
   "cell_type": "code",
   "execution_count": null,
   "id": "581def21",
   "metadata": {},
   "outputs": [],
   "source": [
    "# splitting data for classification and regression\n",
    "\n",
    "x = cus_data.drop('NextPurchaseDayRange',axis = 1)\n",
    "y = cus_data['NextPurchaseDayRange']\n",
    "\n",
    "# removing imbalance in the dataset\n",
    "from imblearn.over_sampling import RandomOverSampler\n",
    "\n",
    "ros = RandomOverSampler(sampling_strategy='not majority')\n",
    "x_over,y_over = ros.fit_resample(x,y)"
   ]
  },
  {
   "cell_type": "code",
   "execution_count": null,
   "id": "97235e44",
   "metadata": {},
   "outputs": [],
   "source": [
    "y_over.value_counts()"
   ]
  },
  {
   "cell_type": "code",
   "execution_count": null,
   "id": "3d4ed183",
   "metadata": {},
   "outputs": [],
   "source": [
    "# instantiating models\n",
    "\n",
    "models = {\n",
    "    \"LogisticRegression\" : LogisticRegression(),\n",
    "    \"GaussianNB\" : GaussianNB(),\n",
    "    \"RandomForestClassifier\" : RandomForestClassifier(),\n",
    "    \"SVC\" : SVC(),\n",
    "    \"DecisionTreeClassifier\" : DecisionTreeClassifier(),\n",
    "    \"xgb.XGBClassifier\" : xgb.XGBClassifier(eval_metric='mlogloss'),\n",
    "    \"KNeighborsClassifier\" : KNeighborsClassifier()\n",
    "}\n"
   ]
  },
  {
   "cell_type": "code",
   "execution_count": null,
   "id": "23a1f626",
   "metadata": {},
   "outputs": [],
   "source": [
    "class_scorer = ['accuracy']"
   ]
  },
  {
   "cell_type": "code",
   "execution_count": null,
   "id": "32dcc0c7",
   "metadata": {},
   "outputs": [],
   "source": [
    "# function to perform cross validation on all metrics and display them for each model\n",
    "def fit_and_score(model,x,y,scorer):\n",
    "        metric =[]\n",
    "        index = []\n",
    "        kfold = KFold(n_splits=2, random_state=24, shuffle=True)\n",
    "        for key,value in model.items() :\n",
    "            index.append(key)\n",
    "            for i in range(len(scorer)) :\n",
    "                score = cross_val_score(value,x,y,scoring = scorer[i],cv = kfold)\n",
    "                score = np.mean(score)\n",
    "                metric.append(score)\n",
    "        df = pd.DataFrame(np.array(metric).reshape(len(model),len(scorer)))\n",
    "        df.columns = scorer\n",
    "        df.index = index\n",
    "        return df  "
   ]
  },
  {
   "cell_type": "code",
   "execution_count": null,
   "id": "bb2ba990",
   "metadata": {},
   "outputs": [],
   "source": [
    "# performing cross_validation for the classification\n",
    "class_metrics = fit_and_score(model=models,scorer=class_scorer,y=y_over,x=x_over)\n",
    "\n",
    "class_metrics"
   ]
  },
  {
   "cell_type": "markdown",
   "id": "f1ad2226",
   "metadata": {},
   "source": [
    "__The `randomforestclassifier`performed better"
   ]
  },
  {
   "cell_type": "markdown",
   "id": "20841f3f",
   "metadata": {},
   "source": [
    "## Next Days spend Propability"
   ]
  },
  {
   "cell_type": "code",
   "execution_count": null,
   "id": "451333f1",
   "metadata": {},
   "outputs": [],
   "source": [
    "from sklearn.model_selection import train_test_split\n",
    "x_train, x_test, y_train, y_test = train_test_split(x_over, y_over, test_size=0.2)"
   ]
  },
  {
   "cell_type": "code",
   "execution_count": null,
   "id": "d885e270",
   "metadata": {},
   "outputs": [],
   "source": [
    "# instantiating model and fitting\n",
    "rf = RandomForestClassifier()\n",
    "rf.fit(x_train,y_train)"
   ]
  },
  {
   "cell_type": "code",
   "execution_count": null,
   "id": "9a783f73",
   "metadata": {},
   "outputs": [],
   "source": [
    "# making prediction probalities\n",
    "prediction_proba = rf.predict_proba(x_test)\n",
    "\n",
    "# predictions\n",
    "preds = rf.predict(x_test)"
   ]
  },
  {
   "cell_type": "markdown",
   "id": "046265cf",
   "metadata": {},
   "source": [
    "## Classfication Report"
   ]
  },
  {
   "cell_type": "code",
   "execution_count": null,
   "id": "52f8697b",
   "metadata": {},
   "outputs": [],
   "source": [
    "print(classification_report(preds,y_test))"
   ]
  },
  {
   "cell_type": "code",
   "execution_count": null,
   "id": "c432009d",
   "metadata": {},
   "outputs": [],
   "source": [
    "## Savving model\n",
    "from joblib import dump\n",
    "dump(rf, 'C:/Users/user/Data_Driven/models/Customer_next_purchase_day_model_1.joblib')"
   ]
  },
  {
   "cell_type": "code",
   "execution_count": null,
   "id": "9c16c416",
   "metadata": {},
   "outputs": [],
   "source": []
  }
 ],
 "metadata": {
  "kernelspec": {
   "display_name": "Python 3 (Spyder)",
   "language": "python3",
   "name": "python3"
  },
  "language_info": {
   "codemirror_mode": {
    "name": "ipython",
    "version": 3
   },
   "file_extension": ".py",
   "mimetype": "text/x-python",
   "name": "python",
   "nbconvert_exporter": "python",
   "pygments_lexer": "ipython3",
   "version": "3.9.12"
  }
 },
 "nbformat": 4,
 "nbformat_minor": 5
}
