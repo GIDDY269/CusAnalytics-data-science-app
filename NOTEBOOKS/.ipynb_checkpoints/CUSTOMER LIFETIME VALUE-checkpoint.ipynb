{
 "cells": [
  {
   "cell_type": "code",
   "execution_count": null,
   "id": "c85f2010",
   "metadata": {},
   "outputs": [],
   "source": [
    "# importing libraries\n",
    "from datetime import datetime,timedelta,date\n",
    "import pandas as pd\n",
    "import numpy as np\n",
    "import matplotlib.pyplot as plt\n",
    "%matplotlib inline\n",
    "import seaborn as sns\n",
    "from sklearn.cluster import KMeans\n",
    "from __future__ import division\n",
    "\n",
    "from sklearn.metrics import classification_report,confusion_matrix\n",
    "from sklearn.model_selection import KFold,cross_val_score,train_test_split,GridSearchCV,KFold\n",
    "\n",
    "from sklearn.ensemble import RandomForestClassifier\n",
    "from sklearn.linear_model import LogisticRegression\n",
    "from sklearn.neighbors import KNeighborsClassifier\n",
    "from sklearn.ensemble import GradientBoostingClassifier\n",
    "from sklearn.tree import DecisionTreeClassifier\n",
    "import xgboost as xgb"
   ]
  },
  {
   "cell_type": "code",
   "execution_count": null,
   "id": "1241686f",
   "metadata": {},
   "outputs": [],
   "source": [
    "# load data\n",
    "\n",
    "cus_df = pd.read_csv('C:/Users/user/Data_Driven/online_retail_II.csv')\n",
    "cus_df.rename(columns={'Customer ID':'CustomerID'},inplace=True)\n",
    "\n",
    "cus_df.head()"
   ]
  },
  {
   "cell_type": "code",
   "execution_count": null,
   "id": "0db29c86",
   "metadata": {},
   "outputs": [],
   "source": [
    "cus_df.info()"
   ]
  },
  {
   "cell_type": "code",
   "execution_count": null,
   "id": "df7698d1",
   "metadata": {},
   "outputs": [],
   "source": [
    "cus_df.isnull().sum()"
   ]
  },
  {
   "cell_type": "code",
   "execution_count": null,
   "id": "b5a884bd",
   "metadata": {},
   "outputs": [],
   "source": [
    "# converting invoicedate into datetime object\n",
    "\n",
    "cus_df['InvoiceDate'] = pd.to_datetime(cus_df['InvoiceDate'])\n",
    "\n",
    "cus_df.info()"
   ]
  },
  {
   "cell_type": "code",
   "execution_count": null,
   "id": "1ef9a31d",
   "metadata": {},
   "outputs": [],
   "source": [
    "# dropping missing values\n",
    "\n",
    "cus_df.dropna(inplace= True)\n",
    "\n",
    "cus_df.isnull().sum()"
   ]
  },
  {
   "cell_type": "code",
   "execution_count": null,
   "id": "2a488910",
   "metadata": {},
   "outputs": [],
   "source": [
    "pd.DataFrame(cus_df['InvoiceDate'].describe())"
   ]
  },
  {
   "cell_type": "code",
   "execution_count": null,
   "id": "06dc16c1",
   "metadata": {},
   "outputs": [],
   "source": [
    "# creating 1year 2month and 6month dataframe for historical data and future data respectively\n",
    "\n",
    "cus_1y_2m = cus_df[(cus_df['InvoiceDate'] >= pd.Timestamp(2010,3,1)) & (cus_df['InvoiceDate'] < pd.Timestamp(2011,6,1))].reset_index(drop=True)\n",
    "cus_6m = cus_df[(cus_df['InvoiceDate'] >= pd.Timestamp(2011,6,1)) & (cus_df['InvoiceDate']<pd.Timestamp(2011,12,1))].reset_index(drop=True)"
   ]
  },
  {
   "cell_type": "code",
   "execution_count": null,
   "id": "987834b4",
   "metadata": {},
   "outputs": [],
   "source": [
    "# ned df for assigning clusterring\n",
    "\n",
    "cus_ctr = pd.DataFrame(cus_df['CustomerID'].unique())\n",
    "cus_ctr.columns = ['CustomerID']\n",
    "cus_ctr.head()"
   ]
  },
  {
   "cell_type": "code",
   "execution_count": null,
   "id": "7573d138",
   "metadata": {},
   "outputs": [],
   "source": [
    "#order cluster method\n",
    "def order_cluster(cluster_field_name, target_field_name,df,ascending):\n",
    "    new_cluster_field_name = 'new_' + cluster_field_name\n",
    "    df_new = df.groupby(cluster_field_name)[target_field_name].mean().reset_index()\n",
    "    df_new = df_new.sort_values(by=target_field_name,ascending=ascending).reset_index(drop=True)\n",
    "    df_new['index'] = df_new.index\n",
    "    df_final = pd.merge(df,df_new[[cluster_field_name,'index']], on=cluster_field_name)\n",
    "    df_final = df_final.drop([cluster_field_name],axis=1)\n",
    "    df_final = df_final.rename(columns={\"index\":cluster_field_name})\n",
    "    return df_final"
   ]
  },
  {
   "cell_type": "code",
   "execution_count": null,
   "id": "ed504003",
   "metadata": {},
   "outputs": [],
   "source": [
    "# recency score\n",
    "\n",
    "recency_df = pd.DataFrame(cus_1y_2m.groupby('CustomerID')['InvoiceDate'].max().reset_index())\n",
    "recency_df.columns = ['CustomerID','LastPurchaseDate']\n",
    "recency_df['Recency'] = (recency_df['LastPurchaseDate'].max()-recency_df['LastPurchaseDate']).dt.days"
   ]
  },
  {
   "cell_type": "code",
   "execution_count": null,
   "id": "f80b80ea",
   "metadata": {},
   "outputs": [],
   "source": [
    "recency_df"
   ]
  },
  {
   "cell_type": "code",
   "execution_count": null,
   "id": "cb02a784",
   "metadata": {},
   "outputs": [],
   "source": [
    "cus_ctr = pd.merge(cus_ctr,recency_df[['CustomerID','Recency']],on='CustomerID')"
   ]
  },
  {
   "cell_type": "code",
   "execution_count": null,
   "id": "e733f8d2",
   "metadata": {},
   "outputs": [],
   "source": [
    "cus_ctr.head()"
   ]
  },
  {
   "cell_type": "code",
   "execution_count": null,
   "id": "e1e42503",
   "metadata": {},
   "outputs": [],
   "source": [
    "# form clusters\n",
    "kmeans = KMeans(n_clusters=4)\n",
    "kmeans.fit(cus_ctr[['Recency']])\n",
    "cus_ctr['RecencyCluster'] = kmeans.predict(cus_ctr[['Recency']])\n",
    "\n",
    "cus_ctr.head()"
   ]
  },
  {
   "cell_type": "code",
   "execution_count": null,
   "id": "f295a526",
   "metadata": {},
   "outputs": [],
   "source": [
    "# oder recency cluster\n",
    "\n",
    "cus_ctr = order_cluster('RecencyCluster','Recency',cus_ctr,False)\n",
    "\n",
    "cus_ctr.head()"
   ]
  },
  {
   "cell_type": "code",
   "execution_count": null,
   "id": "62e257aa",
   "metadata": {},
   "outputs": [],
   "source": [
    "cus_ctr.groupby('RecencyCluster')['Recency'].describe()"
   ]
  },
  {
   "cell_type": "code",
   "execution_count": null,
   "id": "fe4dee52",
   "metadata": {},
   "outputs": [],
   "source": [
    "# Freqeuncy\n",
    "\n",
    "frequency_df = cus_1y_2m.groupby('CustomerID')['InvoiceDate'].count().reset_index()\n",
    "frequency_df.columns = ['CustomerID','Frequency']\n",
    "cus_ctr = pd.merge(cus_ctr,frequency_df,on='CustomerID')\n",
    "cus_ctr.head()"
   ]
  },
  {
   "cell_type": "code",
   "execution_count": null,
   "id": "1f0198d0",
   "metadata": {},
   "outputs": [],
   "source": [
    "# frequency cluster\n",
    "kmeans.fit(cus_ctr[['Frequency']])\n",
    "cus_ctr['FrequencyCluster'] = kmeans.predict(cus_ctr[['Frequency']])\n",
    "cus_ctr.head()"
   ]
  },
  {
   "cell_type": "code",
   "execution_count": null,
   "id": "8106255b",
   "metadata": {},
   "outputs": [],
   "source": [
    "# order frequency cluster\n",
    "cus_ctr = order_cluster('FrequencyCluster','Frequency',cus_ctr,True)\n",
    "\n",
    "\n",
    "cus_ctr.head()"
   ]
  },
  {
   "cell_type": "code",
   "execution_count": null,
   "id": "1488b546",
   "metadata": {},
   "outputs": [],
   "source": [
    "cus_ctr.groupby('FrequencyCluster')['Frequency'].describe()"
   ]
  },
  {
   "cell_type": "code",
   "execution_count": null,
   "id": "7d5450bf",
   "metadata": {},
   "outputs": [],
   "source": [
    "# Revenue\n",
    "cus_1y_2m['Revenue'] = cus_1y_2m['Quantity'] * cus_1y_2m['Price']\n",
    "\n",
    "# total revenue\n",
    "revenue_df = cus_1y_2m.groupby('CustomerID')['Revenue'].sum().reset_index()\n",
    "revenue_df.columns = ['CustomerID','TotalRevenue']\n",
    "cus_ctr = pd.merge(cus_ctr,revenue_df,on='CustomerID')\n",
    "\n",
    "#average revenue\n",
    "revenue_mean = cus_1y_2m.groupby('CustomerID')['Revenue'].mean().reset_index()\n",
    "revenue_mean.columns = ['CustomerID','MeanRevenue']\n",
    "cus_ctr = pd.merge(cus_ctr,revenue_mean,on='CustomerID')\n",
    "cus_ctr.head()"
   ]
  },
  {
   "cell_type": "code",
   "execution_count": null,
   "id": "663b4f40",
   "metadata": {},
   "outputs": [],
   "source": [
    "# cluster\n",
    "kmeans.fit(cus_ctr[['TotalRevenue']])\n",
    "cus_ctr['TotalRevenueCluster'] = kmeans.predict(cus_ctr[['TotalRevenue']])\n",
    "cus_ctr.head()"
   ]
  },
  {
   "cell_type": "code",
   "execution_count": null,
   "id": "4352c263",
   "metadata": {},
   "outputs": [],
   "source": [
    "# order revenue ccluster\n",
    "\n",
    "cus_ctr = order_cluster('TotalRevenueCluster','TotalRevenue',cus_ctr,True)\n",
    "\n",
    "cus_ctr.head()"
   ]
  },
  {
   "cell_type": "code",
   "execution_count": null,
   "id": "de9dc4f8",
   "metadata": {},
   "outputs": [],
   "source": [
    "cus_ctr.groupby('TotalRevenueCluster')['TotalRevenue'].describe()"
   ]
  },
  {
   "cell_type": "code",
   "execution_count": null,
   "id": "bdeec8e5",
   "metadata": {},
   "outputs": [],
   "source": [
    "# overall score and segmenting customers\n",
    "\n",
    "cus_ctr['Overall_Score'] = (cus_ctr['RecencyCluster']+cus_ctr['FrequencyCluster']+cus_ctr['TotalRevenueCluster'])\n",
    "cus_ctr['Segment'] = 'Low-Value'\n",
    "cus_ctr.loc[cus_ctr['Overall_Score']>2,'Segment'] = 'Mid-Value' \n",
    "cus_ctr.loc[cus_ctr['Overall_Score']>4,'Segment'] = 'High-Value'"
   ]
  },
  {
   "cell_type": "code",
   "execution_count": null,
   "id": "7255bdf4",
   "metadata": {},
   "outputs": [],
   "source": [
    "cus_ctr"
   ]
  },
  {
   "cell_type": "markdown",
   "id": "f794a28f",
   "metadata": {},
   "source": [
    "## Creating Target ltv variable\n",
    "There is no cost specified in the dataset. That’s why Revenue becomes our LTV directly."
   ]
  },
  {
   "cell_type": "code",
   "execution_count": null,
   "id": "b0e79ed4",
   "metadata": {},
   "outputs": [],
   "source": [
    "cus_6m['Revenue'] = cus_6m['Quantity'] * cus_6m['Price']\n",
    "cus_user_6m = cus_6m.groupby('CustomerID')['Revenue'].sum().reset_index()\n",
    "cus_user_6m.columns = ['CustomerID','m6_Revenue']"
   ]
  },
  {
   "cell_type": "code",
   "execution_count": null,
   "id": "ca87e110",
   "metadata": {},
   "outputs": [],
   "source": [
    "cus_user_6m.head()"
   ]
  },
  {
   "cell_type": "code",
   "execution_count": null,
   "id": "9117fa50",
   "metadata": {},
   "outputs": [],
   "source": [
    "plt.figure(figsize=(20,6))\n",
    "sns.histplot(data=cus_user_6m,x=cus_user_6m['m6_Revenue'])\n",
    "plt.title('6 Months Revenue');"
   ]
  },
  {
   "cell_type": "markdown",
   "id": "bf7f865a",
   "metadata": {},
   "source": [
    "Histogram clearly shows we have customers with negative LTV. We have some outliers too. "
   ]
  },
  {
   "cell_type": "code",
   "execution_count": null,
   "id": "07b50661",
   "metadata": {},
   "outputs": [],
   "source": [
    "# merging the two dataframe together\n",
    "\n",
    "cus_ctr = pd.merge(cus_ctr,cus_user_6m,on='CustomerID',how='left')\n",
    "cus_ctr.fillna(0)\n",
    "\n",
    "cus_ctr.head()"
   ]
  },
  {
   "cell_type": "code",
   "execution_count": null,
   "id": "8d2952b5",
   "metadata": {},
   "outputs": [],
   "source": [
    "# plotting a graphy of m6_revenue vs overall_score\n",
    "plt.figure(figsize=(20,6))\n",
    "sns.scatterplot(data=cus_ctr,x='Overall_Score',y='m6_Revenue',hue='Segment')\n",
    "plt.title('LTV');"
   ]
  },
  {
   "cell_type": "code",
   "execution_count": null,
   "id": "d5f2b336",
   "metadata": {},
   "outputs": [],
   "source": [
    "# removing outliers\n",
    "cus_ctr = cus_ctr[cus_ctr['m6_Revenue']<cus_ctr['m6_Revenue'].quantile(0.9)]\n",
    "\n",
    "# creating three clusters\n",
    "kmeans = KMeans(n_clusters=3)\n",
    "kmeans.fit(cus_ctr[['m6_Revenue']])\n",
    "cus_ctr['LTVClusters'] = kmeans.predict(cus_ctr[['m6_Revenue']])\n",
    "\n",
    "#order cluster number based on LTV\n",
    "cus_ctr = order_cluster('LTVClusters','m6_Revenue',cus_ctr,True)\n",
    "\n",
    "# making copy\n",
    "cus_cluster = cus_ctr.copy()"
   ]
  },
  {
   "cell_type": "code",
   "execution_count": null,
   "id": "777c8854",
   "metadata": {},
   "outputs": [],
   "source": [
    "cus_cluster.head()"
   ]
  },
  {
   "cell_type": "code",
   "execution_count": null,
   "id": "45774b14",
   "metadata": {},
   "outputs": [],
   "source": [
    "# decribing ltv cluster\n",
    "\n",
    "cus_cluster.groupby('LTVClusters')['m6_Revenue'].describe()"
   ]
  },
  {
   "cell_type": "markdown",
   "id": "69834f8c",
   "metadata": {},
   "source": [
    "2 is the best with average 1.3k LTV whereas 0 is the worst with 238."
   ]
  },
  {
   "cell_type": "code",
   "execution_count": null,
   "id": "117591c8",
   "metadata": {},
   "outputs": [],
   "source": [
    "# converting categorical data to numerical \n",
    "\n",
    "cus_cluster = pd.get_dummies(cus_cluster)\n",
    "cus_cluster.head()"
   ]
  },
  {
   "cell_type": "code",
   "execution_count": null,
   "id": "ffeeee1b",
   "metadata": {},
   "outputs": [],
   "source": [
    "# cheching the correlation between features and our ltv label\n",
    "\n",
    "corr = cus_cluster.corr()\n",
    "plt.figure(figsize=(15,10))\n",
    "sns.heatmap(corr,annot=True,fmt='.2F');"
   ]
  },
  {
   "cell_type": "markdown",
   "id": "17cbc96d",
   "metadata": {},
   "source": [
    "## model Building"
   ]
  },
  {
   "cell_type": "code",
   "execution_count": null,
   "id": "0a438063",
   "metadata": {},
   "outputs": [],
   "source": [
    "models = {\n",
    "    'LogisticRegression' : LogisticRegression(),\n",
    "    'RandomForestClalssifier' : RandomForestClassifier(),\n",
    "    'XGb.xgb' : xgb.XGBClassifier(),\n",
    "    'kneighbors' : KNeighborsClassifier(),\n",
    "    'gradientboost' : GradientBoostingClassifier(),\n",
    "    'Decisiontree' : DecisionTreeClassifier()\n",
    "}\n",
    "\n",
    "class_scorer = ['accuracy']"
   ]
  },
  {
   "cell_type": "code",
   "execution_count": null,
   "id": "1f8f5ea9",
   "metadata": {},
   "outputs": [],
   "source": [
    "# function to perform cross validation on all metrics and display them for each model\n",
    "def fit_and_score(model,x,y,scorer):\n",
    "        metric =[]\n",
    "        index = []\n",
    "        kfold = KFold(n_splits=2, random_state=24, shuffle=True)\n",
    "        for key,value in model.items() :\n",
    "            index.append(key)\n",
    "            for i in range(len(scorer)) :\n",
    "                score = cross_val_score(value,x,y,scoring = scorer[i],cv = kfold)\n",
    "                score = np.mean(score)\n",
    "                metric.append(score)\n",
    "        df = pd.DataFrame(np.array(metric).reshape(len(model),len(scorer)))\n",
    "        df.columns = scorer\n",
    "        df.index = index\n",
    "        return df "
   ]
  },
  {
   "cell_type": "code",
   "execution_count": null,
   "id": "969af71a",
   "metadata": {},
   "outputs": [],
   "source": [
    "# splitting into x & y\n",
    "x = cus_cluster.drop(['LTVClusters','m6_Revenue'],axis=1)\n",
    "y = cus_cluster['LTVClusters']"
   ]
  },
  {
   "cell_type": "code",
   "execution_count": null,
   "id": "cf3c7ddc",
   "metadata": {},
   "outputs": [],
   "source": [
    "plt.figure(figsize=(15,6))\n",
    "sns.countplot(data=cus_cluster,x=cus_cluster['LTVClusters'])"
   ]
  },
  {
   "cell_type": "code",
   "execution_count": null,
   "id": "125dd8f8",
   "metadata": {},
   "outputs": [],
   "source": [
    "#balancing imbalance data\n",
    "from imblearn.over_sampling import RandomOverSampler\n",
    "ros = RandomOverSampler(sampling_strategy='not majority')\n",
    "x_over,y_over = ros.fit_resample(x,y)"
   ]
  },
  {
   "cell_type": "code",
   "execution_count": null,
   "id": "a3236e70",
   "metadata": {},
   "outputs": [],
   "source": [
    "y_over.value_counts()"
   ]
  },
  {
   "cell_type": "code",
   "execution_count": null,
   "id": "eb37675e",
   "metadata": {},
   "outputs": [],
   "source": [
    "fit_and_score(models,x_over,y_over,class_scorer)"
   ]
  },
  {
   "cell_type": "markdown",
   "id": "e848500f",
   "metadata": {},
   "source": [
    "`xgboost` performs better than other models but it just over 70% acccuracy, so alot of improvement can be made to try to increase them"
   ]
  },
  {
   "cell_type": "code",
   "execution_count": null,
   "id": "123e7785",
   "metadata": {},
   "outputs": [],
   "source": [
    "# splitting into training and test data\n",
    "\n",
    "x_train,x_test,y_train,y_test = train_test_split(x_over,y_over,test_size=0.05,random_state=56)"
   ]
  },
  {
   "cell_type": "markdown",
   "id": "39433089",
   "metadata": {},
   "source": [
    "### Hyperparameter tuning with `GridSearchCV`"
   ]
  },
  {
   "cell_type": "code",
   "execution_count": null,
   "id": "263889ab",
   "metadata": {},
   "outputs": [],
   "source": [
    "kfold = KFold(n_splits=5, random_state=24, shuffle=True)\n",
    "xgb_grid = {\n",
    "    'max_depth' : [1,2,3,4,5,6,7,8,9,10],\n",
    "    'learning_rate' : [0.01,0.1,0.4],\n",
    "    'objective' : ['multi:softprob']\n",
    "}\n",
    "\n",
    "xgb_gs = GridSearchCV(xgb.XGBClassifier(),param_grid=xgb_grid,\n",
    "                    scoring='accuracy',cv=kfold,verbose=1)\n",
    "\n",
    "xgb_gs.fit(x_train,y_train)"
   ]
  },
  {
   "cell_type": "code",
   "execution_count": null,
   "id": "ba2eac77",
   "metadata": {},
   "outputs": [],
   "source": [
    "xgb_gs.best_score_"
   ]
  },
  {
   "cell_type": "code",
   "execution_count": null,
   "id": "734b45a5",
   "metadata": {},
   "outputs": [],
   "source": [
    "xgb_gs.best_params_"
   ]
  },
  {
   "cell_type": "markdown",
   "id": "c1550eeb",
   "metadata": {},
   "source": [
    "### cross validation"
   ]
  },
  {
   "cell_type": "code",
   "execution_count": null,
   "id": "a1f57ead",
   "metadata": {},
   "outputs": [],
   "source": [
    "print(f'cross_val_score {np.mean(cross_val_score(xgb_gs,x_over,y_over,cv=kfold,verbose=2))}')"
   ]
  },
  {
   "cell_type": "markdown",
   "id": "481b8453",
   "metadata": {},
   "source": [
    "#### Classification report"
   ]
  },
  {
   "cell_type": "code",
   "execution_count": null,
   "id": "3fbcabbe",
   "metadata": {},
   "outputs": [],
   "source": [
    "y_preds = xgb_gs.predict(x_test)\n",
    "\n",
    "print(classification_report(y_preds,y_test))"
   ]
  },
  {
   "cell_type": "code",
   "execution_count": null,
   "id": "0180a79c",
   "metadata": {},
   "outputs": [],
   "source": [
    "## Savving model\n",
    "from joblib import dump\n",
    "dump(xgb_gs, 'C:/Users/user/Data_Driven/models/Customer_lifetime_value_model.joblib_1')"
   ]
  },
  {
   "cell_type": "code",
   "execution_count": null,
   "id": "fae0b650",
   "metadata": {},
   "outputs": [],
   "source": []
  }
 ],
 "metadata": {
  "kernelspec": {
   "display_name": "Python 3 (Spyder)",
   "language": "python3",
   "name": "python3"
  },
  "language_info": {
   "codemirror_mode": {
    "name": "ipython",
    "version": 3
   },
   "file_extension": ".py",
   "mimetype": "text/x-python",
   "name": "python",
   "nbconvert_exporter": "python",
   "pygments_lexer": "ipython3",
   "version": "3.9.12"
  }
 },
 "nbformat": 4,
 "nbformat_minor": 5
}
